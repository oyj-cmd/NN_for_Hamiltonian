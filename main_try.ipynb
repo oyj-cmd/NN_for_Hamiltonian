{
 "cells": [
  {
   "cell_type": "code",
   "execution_count": 1,
   "metadata": {},
   "outputs": [
    {
     "name": "stdout",
     "output_type": "stream",
     "text": [
      "adam\n"
     ]
    }
   ],
   "source": [
    "a: str = 'ADAM'\n",
    "a = a.lower()\n",
    "print(a)"
   ]
  },
  {
   "cell_type": "code",
   "execution_count": 2,
   "metadata": {},
   "outputs": [
    {
     "name": "stdout",
     "output_type": "stream",
     "text": [
      "3\n"
     ]
    }
   ],
   "source": [
    "a = [1, 'a', 1, 3, 1, 'a']\n",
    "a = a.index(3)\n",
    "print(a)"
   ]
  },
  {
   "cell_type": "code",
   "execution_count": 1,
   "metadata": {},
   "outputs": [
    {
     "name": "stdout",
     "output_type": "stream",
     "text": [
      "tensor([ 2., 20.])\n",
      "tensor([ 1., 10.])\n"
     ]
    }
   ],
   "source": [
    "import torch\n",
    "a = torch.tensor([1j+2, 10j+20])\n",
    "real = a.real\n",
    "imag = a.imag\n",
    "print(real)\n",
    "print(imag)"
   ]
  },
  {
   "cell_type": "code",
   "execution_count": 2,
   "metadata": {},
   "outputs": [
    {
     "name": "stdout",
     "output_type": "stream",
     "text": [
      "torch.float16\n"
     ]
    }
   ],
   "source": [
    "import torch\n",
    "a = torch.float16\n",
    "print(str(a))"
   ]
  },
  {
   "cell_type": "code",
   "execution_count": 7,
   "metadata": {},
   "outputs": [
    {
     "name": "stdout",
     "output_type": "stream",
     "text": [
      "torch.Size([3, 2, 1])\n",
      "tensor([[[0.],\n",
      "         [1.]],\n",
      "\n",
      "        [[0.],\n",
      "         [1.]],\n",
      "\n",
      "        [[0.],\n",
      "         [1.]]])\n"
     ]
    }
   ],
   "source": [
    "import torch\n",
    "\n",
    "a = torch.zeros((3, 1))\n",
    "b = torch.ones((3, 1))\n",
    "c = torch.stack([a, b], dim=1)\n",
    "print(c.shape)\n",
    "print(c)"
   ]
  },
  {
   "cell_type": "code",
   "execution_count": 1,
   "metadata": {},
   "outputs": [
    {
     "name": "stdout",
     "output_type": "stream",
     "text": [
      "False\n",
      "True\n"
     ]
    }
   ],
   "source": [
    "a = None\n",
    "b = ''\n",
    "print(isinstance(a, str))\n",
    "print(isinstance(b, str))"
   ]
  },
  {
   "cell_type": "code",
   "execution_count": 14,
   "metadata": {},
   "outputs": [
    {
     "name": "stdout",
     "output_type": "stream",
     "text": [
      "True\n",
      "True\n",
      "True\n"
     ]
    }
   ],
   "source": [
    "from typing import Tuple\n",
    "a = tuple(['1', '2', 'm'])\n",
    "b = type(a)\n",
    "\n",
    "i = isinstance(a, Tuple)\n",
    "print(i)\n",
    "j = isinstance(a[0], str)\n",
    "print(j)\n",
    "k = isinstance(a, [Tuple][0])\n",
    "print(k)"
   ]
  },
  {
   "cell_type": "code",
   "execution_count": 18,
   "metadata": {},
   "outputs": [
    {
     "name": "stdout",
     "output_type": "stream",
     "text": [
      "2\n"
     ]
    }
   ],
   "source": [
    "a = [2, 1]\n",
    "c, _ = a\n",
    "print(c)"
   ]
  },
  {
   "cell_type": "code",
   "execution_count": 1,
   "metadata": {},
   "outputs": [
    {
     "name": "stdout",
     "output_type": "stream",
     "text": [
      "False\n",
      "True\n"
     ]
    }
   ],
   "source": [
    "import torch\n",
    "a = torch.float32\n",
    "print(isinstance(a, str))\n",
    "print(isinstance(a, torch.dtype))"
   ]
  },
  {
   "cell_type": "code",
   "execution_count": 12,
   "metadata": {},
   "outputs": [
    {
     "name": "stdout",
     "output_type": "stream",
     "text": [
      "<class 'tuple'>\n",
      "<class 'str'>\n",
      "<class 'tuple'>\n",
      "True\n",
      "True\n",
      "True\n",
      "False\n",
      "True\n"
     ]
    }
   ],
   "source": [
    "from typing import Tuple\n",
    "a = tuple(['1', '2', 'm'])\n",
    "a = ('k', )\n",
    "\n",
    "print(type(a))\n",
    "print(type(a[0]))\n",
    "print(type(tuple([None])))\n",
    "i = type(a)==type(tuple([None]))\n",
    "print(i)\n",
    "i = type(a)==type((83, ))\n",
    "print(i)\n",
    "i = type(a)==type((83, 'i'))\n",
    "print(i)\n",
    "j = type(a[0])==type((83, )[0])\n",
    "print(j)\n",
    "j = type(a[0])==type(('1', '3')[0])\n",
    "print(j)"
   ]
  },
  {
   "cell_type": "code",
   "execution_count": 13,
   "metadata": {},
   "outputs": [
    {
     "name": "stdout",
     "output_type": "stream",
     "text": [
      "(93, 93, 93)\n"
     ]
    }
   ],
   "source": [
    "edge = (83, 83)\n",
    "edge = (93, 93, 93)\n",
    "print(edge)"
   ]
  },
  {
   "cell_type": "code",
   "execution_count": 3,
   "metadata": {},
   "outputs": [
    {
     "name": "stdout",
     "output_type": "stream",
     "text": [
      "False\n"
     ]
    }
   ],
   "source": [
    "a = \"\"\n",
    "b = a==False\n",
    "print(b)"
   ]
  },
  {
   "cell_type": "code",
   "execution_count": 3,
   "metadata": {},
   "outputs": [
    {
     "name": "stdout",
     "output_type": "stream",
     "text": [
      "[0 3 4 5 6]\n",
      "[-1  3  3 -1 -1 -1 -1]\n"
     ]
    }
   ],
   "source": [
    "import numpy as np \n",
    "\n",
    "a = [1, 3, 3, 1, 1, 1, 1]\n",
    "a = np.array(a)\n",
    "b = np.where(a==1)\n",
    "c = np.where(a==1, -1*a, a)\n",
    "print(b[0])\n",
    "print(c)"
   ]
  },
  {
   "cell_type": "code",
   "execution_count": 4,
   "metadata": {},
   "outputs": [
    {
     "name": "stdout",
     "output_type": "stream",
     "text": [
      "[0 1 2 0 1 2 0 3 3]\n"
     ]
    }
   ],
   "source": [
    "from numpy.typing import NDArray\n",
    "import numpy as np \n",
    "atom_types = [2, 2, 2, 3, 3, 3, 0, 2, 3]\n",
    "atom_types: NDArray = np.array(atom_types) # shape=(num_atoms, )\n",
    "partial_index: NDArray = np.empty_like(atom_types) # shape=(num_atoms, )\n",
    "for atomic_number in np.unique(atom_types):\n",
    "    global_index: NDArray = np.where(atom_types==atomic_number)[0]\n",
    "    partial_index[global_index] = np.arange(len(global_index))\n",
    "print(partial_index)"
   ]
  },
  {
   "cell_type": "code",
   "execution_count": 2,
   "metadata": {},
   "outputs": [
    {
     "name": "stdout",
     "output_type": "stream",
     "text": [
      "[1]\n"
     ]
    }
   ],
   "source": [
    "a = None\n",
    "b = [1]\n",
    "print(a+b)"
   ]
  },
  {
   "cell_type": "code",
   "execution_count": 2,
   "metadata": {},
   "outputs": [
    {
     "name": "stdout",
     "output_type": "stream",
     "text": [
      "2x1o+2x1o\n",
      "<class 'str'>\n",
      "2x1o\n"
     ]
    }
   ],
   "source": [
    "from e3nn.o3 import Irreps\n",
    "a = Irreps(\"2x1o\")\n",
    "print(a*2)\n",
    "a = str(a)\n",
    "print(type(a))\n",
    "print(a)"
   ]
  },
  {
   "cell_type": "code",
   "execution_count": 1,
   "metadata": {},
   "outputs": [
    {
     "name": "stdout",
     "output_type": "stream",
     "text": [
      "3\n"
     ]
    }
   ],
   "source": [
    "def a(input: None):\n",
    "    print(3)\n",
    "a(None)"
   ]
  },
  {
   "cell_type": "code",
   "execution_count": 1,
   "metadata": {},
   "outputs": [
    {
     "name": "stdout",
     "output_type": "stream",
     "text": [
      "0.0\n"
     ]
    }
   ],
   "source": [
    "avg_aggregate_num = None\n",
    "avg_aggregate_num: None | float = float(avg_aggregate_num) if avg_aggregate_num is not None else 0.0\n",
    "print(avg_aggregate_num)"
   ]
  },
  {
   "cell_type": "code",
   "execution_count": 18,
   "metadata": {},
   "outputs": [
    {
     "name": "stdout",
     "output_type": "stream",
     "text": [
      "[(2, 1o), (4, 0e), (50, 4e)]\n",
      "[2x1o, 4x0e, 50x4e]\n",
      "2x1o+4x0e+50x4e\n",
      "False\n",
      "True\n"
     ]
    }
   ],
   "source": [
    "from e3nn.o3 import Irreps\n",
    "\n",
    "a = Irreps(\"4x1o+8x0e+100x4e\")\n",
    "b = [mul for mul, ir in a]\n",
    "c = [(int(mul/2), ir) for mul, ir in a]\n",
    "print(c)\n",
    "c = [Irreps(str(mul//2)+\"x\"+str(ir)) for mul, ir in a]\n",
    "print(c)\n",
    "d = Irreps(\"\")\n",
    "for i in c:\n",
    "    d = d + i\n",
    "print(d)\n",
    "e = 100/3\n",
    "print(e.is_integer())\n",
    "e = 100/2\n",
    "print(e.is_integer())"
   ]
  },
  {
   "cell_type": "code",
   "execution_count": 3,
   "metadata": {},
   "outputs": [
    {
     "name": "stdout",
     "output_type": "stream",
     "text": [
      "0e\n",
      "<class 'e3nn.o3._irreps.Irrep'>\n",
      "0e\n",
      "<class 'e3nn.o3._irreps.Irrep'>\n",
      "1e\n",
      "<class 'e3nn.o3._irreps.Irrep'>\n"
     ]
    },
    {
     "ename": "AssertionError",
     "evalue": "",
     "output_type": "error",
     "traceback": [
      "\u001b[0;31m---------------------------------------------------------------------------\u001b[0m",
      "\u001b[0;31mAssertionError\u001b[0m                            Traceback (most recent call last)",
      "Cell \u001b[0;32mIn[3], line 9\u001b[0m\n\u001b[1;32m      7\u001b[0m \u001b[38;5;28mprint\u001b[39m(ir)\n\u001b[1;32m      8\u001b[0m \u001b[38;5;28mprint\u001b[39m(\u001b[38;5;28mtype\u001b[39m(ir))\n\u001b[0;32m----> 9\u001b[0m \u001b[38;5;28;01massert\u001b[39;00m ir \u001b[38;5;241m==\u001b[39m Irrep(\u001b[38;5;124m\"\u001b[39m\u001b[38;5;124m0e\u001b[39m\u001b[38;5;124m\"\u001b[39m)\n\u001b[1;32m     10\u001b[0m \u001b[38;5;66;03m# assert ir == Irreps(\"0e\")\u001b[39;00m\n",
      "\u001b[0;31mAssertionError\u001b[0m: "
     ]
    }
   ],
   "source": [
    "from e3nn.o3 import Irreps, Irrep\n",
    "irreps_edges_carbon2oxygen: Irreps = Irreps(\"16x0e\")\n",
    "irreps_edges_oxygen2carbon: Irreps = Irreps(\"16x0e+8x1e+4x2e\")\n",
    "irreps_edge_dict = {\"6-8\": irreps_edges_carbon2oxygen, \"8-6\": irreps_edges_oxygen2carbon}\n",
    "for v in irreps_edge_dict.values():\n",
    "    for mul, ir in v: \n",
    "        print(ir)\n",
    "        print(type(ir))\n",
    "        assert ir == Irrep(\"0e\")\n",
    "        # assert ir == Irreps(\"0e\")"
   ]
  },
  {
   "cell_type": "code",
   "execution_count": 2,
   "metadata": {},
   "outputs": [
    {
     "name": "stdout",
     "output_type": "stream",
     "text": [
      "16\n",
      "24\n",
      "20\n"
     ]
    }
   ],
   "source": [
    "from e3nn.o3 import Irreps\n",
    "irreps_a: Irreps = Irreps(\"16x0e\")\n",
    "irreps_b: Irreps = Irreps(\"16x0e+8x1e+4x2e\")\n",
    "for i, (mul, ir) in enumerate(irreps_b):\n",
    "    print(mul*ir.dim)"
   ]
  },
  {
   "cell_type": "code",
   "execution_count": 3,
   "metadata": {},
   "outputs": [
    {
     "name": "stdout",
     "output_type": "stream",
     "text": [
      "False\n"
     ]
    }
   ],
   "source": [
    "from e3nn.o3 import Irreps, Irrep\n",
    "a = Irreps(\"16x0e+8x1e+4x2e\")\n",
    "print(Irrep(\"4e\") in a)"
   ]
  },
  {
   "cell_type": "code",
   "execution_count": 7,
   "metadata": {},
   "outputs": [
    {
     "name": "stdout",
     "output_type": "stream",
     "text": [
      "tensor([0., 0.])\n",
      "tensor([ True, False, False, False])\n"
     ]
    }
   ],
   "source": [
    "import torch\n",
    "\n",
    "a = torch.arange(0, 16).view(4, 4)\n",
    "b = a[0]\n",
    "d = (a==b).all(dim=1)\n",
    "c = torch.zeros((2,))\n",
    "print(c)\n",
    "print(d)"
   ]
  },
  {
   "cell_type": "code",
   "execution_count": 8,
   "metadata": {},
   "outputs": [
    {
     "name": "stdout",
     "output_type": "stream",
     "text": [
      "tensor([[   nan, 1.0000, 1.0000, 1.0000],\n",
      "        [   inf, 5.0000, 3.0000, 2.3333],\n",
      "        [   inf, 9.0000, 5.0000, 3.6667]])\n"
     ]
    }
   ],
   "source": [
    "import torch\n",
    "a = torch.arange(0, 12).view(3, 4)\n",
    "b = a[0]\n",
    "print(a/b)"
   ]
  },
  {
   "cell_type": "code",
   "execution_count": 16,
   "metadata": {},
   "outputs": [
    {
     "name": "stdout",
     "output_type": "stream",
     "text": [
      "1\n",
      "tensor([1., 0.])\n"
     ]
    }
   ],
   "source": [
    "import torch\n",
    "\n",
    "a = torch.arange(24).view(2, 3, 4)\n",
    "b = (a==a[0])\n",
    "while(b.dim()>=2):\n",
    "    b = b.any(dim=-1).float()\n",
    "print(b.dim())\n",
    "print(b)"
   ]
  },
  {
   "cell_type": "code",
   "execution_count": 22,
   "metadata": {},
   "outputs": [
    {
     "name": "stdout",
     "output_type": "stream",
     "text": [
      "tensor([[1]])\n",
      "torch.Size([1, 1])\n"
     ]
    }
   ],
   "source": [
    "import torch \n",
    "a = torch.arange(24)\n",
    "a = a[None, 1:2]\n",
    "print(a)\n",
    "print(a.shape)"
   ]
  },
  {
   "cell_type": "code",
   "execution_count": 6,
   "metadata": {},
   "outputs": [
    {
     "name": "stdout",
     "output_type": "stream",
     "text": [
      "tensor([[0, 1, 2],\n",
      "        [3, 4, 5]])\n",
      "tensor([0, 1, 2])\n",
      "tensor([ 5, 14])\n"
     ]
    }
   ],
   "source": [
    "import torch\n",
    "a = torch.arange(24).view(2, 3, 4)\n",
    "a = torch.arange(6).view(2, 3)\n",
    "print(a)\n",
    "b = a[0]\n",
    "print(b)\n",
    "\n",
    "a = torch.sum(a * b, dim=-1)\n",
    "print(a)"
   ]
  },
  {
   "cell_type": "code",
   "execution_count": 4,
   "metadata": {},
   "outputs": [
    {
     "name": "stdout",
     "output_type": "stream",
     "text": [
      "1\n",
      "3e\n"
     ]
    }
   ],
   "source": [
    "from e3nn.o3 import Irreps\n",
    "a = Irreps(\"1x3e\")\n",
    "for mul, ir in a:\n",
    "    print(mul)\n",
    "    print(ir)"
   ]
  },
  {
   "cell_type": "code",
   "execution_count": 6,
   "metadata": {},
   "outputs": [
    {
     "name": "stdout",
     "output_type": "stream",
     "text": [
      "True\n"
     ]
    }
   ],
   "source": [
    "from e3nn.o3 import Irreps\n",
    "from typing import Dict\n",
    "\n",
    "a = {1: Irreps(\"1x0e\"), 2: 3}\n",
    "b = {\"3\": 2}\n",
    "print(all([type(a)==type(b) for _ in range(3)]))"
   ]
  },
  {
   "cell_type": "code",
   "execution_count": 2,
   "metadata": {},
   "outputs": [
    {
     "name": "stdout",
     "output_type": "stream",
     "text": [
      "tensor([2.2385])\n"
     ]
    }
   ],
   "source": [
    "import torch\n",
    "a = torch.randn(1)\n",
    "print(a)"
   ]
  },
  {
   "cell_type": "code",
   "execution_count": 8,
   "metadata": {},
   "outputs": [
    {
     "name": "stdout",
     "output_type": "stream",
     "text": [
      "torch.Size([3, 4])\n",
      "torch.Size([3, 1, 4])\n"
     ]
    }
   ],
   "source": [
    "import torch\n",
    "m = torch.zeros((3, 3, 4))\n",
    "a = torch.arange(12).view(3, 4)\n",
    "b = a.view(a.shape[0], *[1 for _ in range(m.dim()-2)], a.shape[1])\n",
    "print(a.shape)\n",
    "print(b.shape)"
   ]
  }
 ],
 "metadata": {
  "kernelspec": {
   "display_name": "deeph_1107",
   "language": "python",
   "name": "python3"
  },
  "language_info": {
   "codemirror_mode": {
    "name": "ipython",
    "version": 3
   },
   "file_extension": ".py",
   "mimetype": "text/x-python",
   "name": "python",
   "nbconvert_exporter": "python",
   "pygments_lexer": "ipython3",
   "version": "3.11.5"
  }
 },
 "nbformat": 4,
 "nbformat_minor": 2
}
