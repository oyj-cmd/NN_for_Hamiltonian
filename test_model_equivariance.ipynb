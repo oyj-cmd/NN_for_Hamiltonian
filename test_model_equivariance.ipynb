{
 "cells": [
  {
   "cell_type": "code",
   "execution_count": 3,
   "metadata": {},
   "outputs": [],
   "source": [
    "from typing import Dict, Tuple, List\n",
    "from torch import Tensor\n",
    "from e3nn.o3 import Irreps\n",
    "import torch\n",
    "from torch_geometric.data import HeteroData\n",
    "from modelname.graph import to_dtype_edge\n",
    "\n",
    "# OUT_SLICE = slice(800, 805)                               ## (Notice !)\n",
    "# IN_SLICE = slice(OUT_SLICE.start+4, OUT_SLICE.stop+4)     ## (Notice !)\n",
    "\n",
    "def outs_rot_invariance(rot: Tensor, \n",
    "                  model: torch.nn.Module, \n",
    "                  data: HeteroData,\n",
    "                  simple_sorted_block_irreps_dict: Dict[Tuple[int, int], Irreps]):\n",
    "    \"\"\"Unit test for checking whether a model (GNN model/layer) is \n",
    "    rotation and translation invariant.\n",
    "    \"\"\"\n",
    "    # Rotate Output\n",
    "    out_1: Dict[str, Tensor] = model(data)\n",
    "    for edge, v in out_1.items():\n",
    "        irreps_out: Irreps = simple_sorted_block_irreps_dict[to_dtype_edge(edge, [Tuple, int])]\n",
    "        # print(f\"irreps_out: {irreps_out}\")            ## (Notice !)\n",
    "        # print(v[0, OUT_SLICE])                        ## (Notice !)\n",
    "        D_out = irreps_out.D_from_matrix(rot)\n",
    "        # predicted Hamiltonian is simple sorted form\n",
    "        # sort_v = v[:, inv_sort_dict[to_dtype_edge(edge, dtype=[Tuple, int])]]\n",
    "        out_1[edge] = v @ D_out.T\n",
    "\n",
    "    # Rotate Input\n",
    "    # data.x_dict = data.x_dict # node_fea (no change)\n",
    "    # data.edge_index_dict = data.edge_index_dict # edge_index (no change)\n",
    "    # data.y_dict = data.y_dict # true y--hamiltonian (no change)\n",
    "    new_data: HeteroData = HeteroData()                 ## (Notice !)\n",
    "    new_data.x_dict = data.x_dict                       ## (Notice !)\n",
    "    new_data.edge_index_dict = data.edge_index_dict     ## (Notice !)\n",
    "    new_data.edge_fea_dict = {}                         ## (Notice !)\n",
    "    for edge, v in data.edge_fea_dict.items():\n",
    "        # dist: Tensor = v[:, 0:1] # (num_edges=num_blocks, 1)\n",
    "        # vec: Tensor = v[:, 1:4] # (num_edges=num_blocks, 3)\n",
    "        # matrix: Tensor = v[:, 4:]\n",
    "        irreps_in: Irreps = Irreps(\"0e+1o\") + simple_sorted_block_irreps_dict[to_dtype_edge(edge, [Tuple, int])]\n",
    "        # print(f\"irreps_in: {irreps_in}\")              ## (Notice !)\n",
    "        # print(v[0, IN_SLICE])                         ## (Notice !)\n",
    "        D_in = irreps_in.D_from_matrix(rot)\n",
    "        # overlap matrix has been simple sorted already in HeteroData\n",
    "        # sort_v = v \n",
    "        #TODO (Notice !) data is not changed here ! WHY ?\n",
    "        # data.edge_fea_dict[edge] = v @ D_in.T         ## (Notice !)\n",
    "        new_data.edge_fea_dict[edge] = v @ D_in.T       ## (Notice !)\n",
    "\n",
    "    # Forward pass on rotated example\n",
    "    # out_2 = model(data)                               ## (Notice !)\n",
    "    out_2 = model(new_data)                             ## (Notice !)\n",
    "    # for edge, v in out_2.items():                     ## (Notice !)\n",
    "    #     print(v[0, OUT_SLICE])                        ## (Notice !)\n",
    "    \n",
    "    return out_1, out_2"
   ]
  },
  {
   "cell_type": "code",
   "execution_count": 4,
   "metadata": {},
   "outputs": [
    {
     "name": "stdout",
     "output_type": "stream",
     "text": [
      "90x0e+202x1e+192x2e+112x3e+40x4e+8x5e\n",
      "tensor([[-0.1991, -0.9799,  0.0117],\n",
      "        [ 0.9644, -0.1939,  0.1797],\n",
      "        [-0.1738,  0.0470,  0.9837]])\n",
      "Is Net rotation equivariant?\n",
      "Max Error: 0.00021076202392578125.\n",
      "Mean Error: 5.320175091583224e-07.\n",
      "(Min Absolute of out_1: 0.0\n",
      "Min Absolute of out_2: 0.0\n",
      "Mean Absolute Value out_1: 0.21476514637470245\n",
      "Mean Absolute Value of out_2: 0.2147650271654129)\n"
     ]
    }
   ],
   "source": [
    "import os\n",
    "import e3nn\n",
    "import torch\n",
    "\n",
    "from modelname.config import read_train_config, config_recorder\n",
    "from modelname.graph import HeteroDataset\n",
    "from modelname.old_0_model import Net\n",
    "\n",
    "\n",
    "import warnings\n",
    "warnings.filterwarnings(\"ignore\")\n",
    "PAIR_TYPE: Tuple[int, int] = (83, 83)\n",
    "PAIR_TYPE_MODEL_OUT: str = to_dtype_edge(PAIR_TYPE, dtype=str)\n",
    "root_dir: str = r\"/home/muyj/Project/Project_1106_deephe3_example/modelname\"\n",
    "json_file =  os.path.join(root_dir, \"config_dir\", \"config.json\")\n",
    "config: config_recorder = read_train_config(json_file=json_file)\n",
    "dataset: HeteroDataset = HeteroDataset(\n",
    "    processed_dir=config.processed_dir, \n",
    "    graph_file=config.graph_file, \n",
    "    is_spin=config.is_spin, \n",
    "    default_dtype_torch=config.default_dtype_torch\n",
    "    )\n",
    "print(dataset.simple_sorted_block_irreps_dict[PAIR_TYPE])\n",
    "model: Net = Net(block_irreps_dict=dataset.simple_sorted_block_irreps_dict)\n",
    "\n",
    "seed = 1\n",
    "torch.manual_seed(seed)\n",
    "torch.random.manual_seed(seed)\n",
    "rot = e3nn.o3.rand_matrix()\n",
    "print(rot)\n",
    "\n",
    "out_1, out_2 = outs_rot_invariance(\n",
    "    rot=rot,\n",
    "    model=model, \n",
    "    data=dataset[0], \n",
    "    simple_sorted_block_irreps_dict=dataset.simple_sorted_block_irreps_dict\n",
    ")\n",
    "out_1 = out_1[PAIR_TYPE_MODEL_OUT]\n",
    "out_2 = out_2[PAIR_TYPE_MODEL_OUT]\n",
    "\n",
    "min_out_1 = out_1.abs().min()\n",
    "min_out_2 = out_2.abs().min()\n",
    "ave_out_1 = out_1.abs().mean()\n",
    "ave_out_2 = out_2.abs().mean()\n",
    "\n",
    "error = out_2 - out_1\n",
    "max_error = error.abs().max()\n",
    "ave_error = error.abs().mean()\n",
    "\n",
    "print(f\"Is {type(model).__name__} rotation equivariant?\")\n",
    "print(f\"Max Error: {max_error}.\\n\"\n",
    "      f\"Mean Error: {ave_error}.\\n\"\n",
    "      f\"(\"\n",
    "      f\"Min Absolute of out_1: {min_out_1}\\n\"\n",
    "      f\"Min Absolute of out_2: {min_out_2}\\n\"\n",
    "      f\"Mean Absolute Value out_1: {ave_out_1}\\n\"\n",
    "      f\"Mean Absolute Value of out_2: {ave_out_2})\"\n",
    "      )\n",
    "\n",
    "# is_zero = (error[OUT_SLICE] == 0).all()       ## (Notice !)\n",
    "# max_error = error[OUT_SLICE].abs().max()      ## (Notice !)\n",
    "# ave_error = error[OUT_SLICE].abs().mean()     ## (Notice !)\n",
    "# print(is_zero)                                ## (Notice !)\n",
    "# print(f\"Max Error: {max_error}.\\n\"            ## (Notice !)\n",
    "#       f\"Mean Error: {ave_error}.\\n\")          ## (Notice !)"
   ]
  },
  {
   "cell_type": "code",
   "execution_count": 5,
   "metadata": {},
   "outputs": [
    {
     "name": "stdout",
     "output_type": "stream",
     "text": [
      "fea_in: tensor([[ 0.7244, -0.7022,  1.1661,  0.2605,  0.3506,  1.0203, -1.8349, -2.2149,\n",
      "          0.0436,  1.3240]])\n",
      "fea_out: tensor([[ 0.7244, -0.7022,  1.1661,  0.2605,  0.3506]])\n"
     ]
    },
    {
     "data": {
      "text/plain": [
       "'\\nfea_out[0, 0] = 0.00\\n# fea_out = fea_out * 100\\nprint(f\"fea_in: {fea_in}\")\\nprint(f\"fea_out: {fea_out}\")\\n'"
      ]
     },
     "execution_count": 5,
     "metadata": {},
     "output_type": "execute_result"
    }
   ],
   "source": [
    "import torch\n",
    "import e3nn\n",
    "from e3nn.o3 import Irreps\n",
    "\n",
    "irreps_in = Irreps(\"2x2e\")\n",
    "irreps_out = Irreps(\"1x2e\")\n",
    "\n",
    "fea_in = irreps_in.randn(1, -1)\n",
    "#(Notice !) shallow copy when using Tensor '=' directly or Tensor slice !\n",
    "fea_out = fea_in[:, :irreps_out.dim]\n",
    "# fea_out = (fea_in + 0.0)[:, :irreps_out.dim]\n",
    "print(f\"fea_in: {fea_in}\")\n",
    "print(f\"fea_out: {fea_out}\")\n",
    "r'''\n",
    "fea_out[0, 0] = 0.00\n",
    "# fea_out = fea_out * 100\n",
    "print(f\"fea_in: {fea_in}\")\n",
    "print(f\"fea_out: {fea_out}\")\n",
    "'''\n"
   ]
  },
  {
   "cell_type": "code",
   "execution_count": 6,
   "metadata": {},
   "outputs": [
    {
     "name": "stdout",
     "output_type": "stream",
     "text": [
      "fea_in: tensor([[-0.6085,  1.0241, -0.3608,  0.6639, -0.7606, -0.3931,  1.1587,  0.8509,\n",
      "          1.2740,  2.6879]])\n",
      "fea_out: tensor([[-0.6085,  1.0241, -0.3608,  0.6639, -0.7606]])\n"
     ]
    }
   ],
   "source": [
    "seed = 1\n",
    "torch.manual_seed(seed)\n",
    "torch.random.manual_seed(seed)\n",
    "rot = e3nn.o3.rand_matrix()\n",
    "\n",
    "D_in = irreps_in.D_from_matrix(rot)\n",
    "D_out = irreps_out.D_from_matrix(rot)\n",
    "fea_in = fea_in @ D_in.T\n",
    "fea_out = fea_out @ D_out.T\n",
    "print(f\"fea_in: {fea_in}\")\n",
    "print(f\"fea_out: {fea_out}\")"
   ]
  }
 ],
 "metadata": {
  "kernelspec": {
   "display_name": "deeph_1107",
   "language": "python",
   "name": "python3"
  },
  "language_info": {
   "codemirror_mode": {
    "name": "ipython",
    "version": 3
   },
   "file_extension": ".py",
   "mimetype": "text/x-python",
   "name": "python",
   "nbconvert_exporter": "python",
   "pygments_lexer": "ipython3",
   "version": "3.11.5"
  }
 },
 "nbformat": 4,
 "nbformat_minor": 2
}
